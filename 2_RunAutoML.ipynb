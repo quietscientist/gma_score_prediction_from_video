{
  "cells": [
    {
      "cell_type": "code",
      "execution_count": null,
      "metadata": {
        "vscode": {
          "languageId": "plaintext"
        },
        "id": "ngtR6tOyIFM-"
      },
      "outputs": [],
      "source": [
        "#download final feature set\n",
        "#download example data or upload your own features"
      ]
    }
]
}
