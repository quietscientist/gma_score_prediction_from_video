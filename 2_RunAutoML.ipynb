{
 "cells": [
  {
   "cell_type": "code",
   "execution_count": null,
   "metadata": {
    "id": "ngtR6tOyIFM-"
   },
   "outputs": [],
   "source": [
    "# Depricated from Google Colab as of 2024-12-01\n",
    "\n",
    "# !sudo apt install python3.9-full python3-pip\n",
    "# !sudo update-alternatives --install /usr/bin/python3 python3 /usr/bin/python3.9 1\n",
    "\n",
    "# !pip uninstall -y scikit-learn scipy pyparsing -y\n",
    "# !pip install Cython==0.29.36 scipy==1.9 pyparsing==2.4\n",
    "# !pip install https://files.pythonhosted.org/packages/04/e2/b43d4205124dd4c1f14606b2e2d78303db993c6653a90bf11dd0ffe23b5b/scikit_learn-0.24.2-cp39-cp39-manylinux2010_x86_64.whl --no-build-isolation\n"
   ]
  },
  {
   "cell_type": "code",
   "execution_count": 2,
   "metadata": {
    "id": "GOK-Q1JnGmkg"
   },
   "outputs": [],
   "source": [
    "import pandas as pd\n",
    "import pickle\n",
    "import autosklearn\n",
    "from autosklearn.experimental.askl2 import AutoSklearn2Classifier\n",
    "\n",
    "from sklearn.model_selection import train_test_split\n",
    "from pprint import pprint\n",
    "\n",
    "import matplotlib.pyplot as plt\n",
    "import numpy as np\n",
    "import sklearn.datasets\n",
    "import sklearn.metrics\n",
    "\n",
    "import autosklearn.classification\n",
    "import autosklearn.metrics\n",
    "\n",
    "from smac.optimizer.smbo import SMBO\n",
    "from smac.runhistory.runhistory import RunInfo, RunValue\n",
    "\n",
    "import matplotlib.pyplot as plt\n",
    "from sklearn.metrics import roc_curve, auc, precision_recall_curve, average_precision_score\n",
    "\n",
    "from sklearn.metrics import roc_curve, auc\n",
    "import matplotlib.pyplot as plt\n",
    "from sklearn.model_selection import train_test_split\n"
   ]
  },
  {
   "cell_type": "code",
   "execution_count": null,
   "metadata": {
    "id": "Wo4ibpkMBlxd"
   },
   "outputs": [],
   "source": [
    "import autosklearn\n",
    "\n",
    "## Import features generated from previous notebook\n",
    "features = pd.read_csv('features.csv')\n",
    "\n",
    "features = features[features['id'].isin(train_ids['gma_id']) | features['id'].isin(val_ids['gma_id'])]\n",
    "test_features = features[features['id'].isin(test_ids['gma_id'])]\n",
    "holdout_features = features[features['id'].isin(holdout_ids['gma_id'])]\n",
    "\n",
    "\n",
    "pivot_df = features.pivot_table(index='infant', columns=['feature'], values='Value', fill_value=0)\n",
    "risk_df = features[['infant', 'risk']].drop_duplicates()\n",
    "\n",
    "test_pivot_df = test_features.pivot_table(index='infant', columns=['feature'], values='Value', fill_value=0)\n",
    "test_risk_df = test_features[['infant', 'risk']].drop_duplicates()\n",
    "\n",
    "holdout_pivot_df = holdout_features.pivot_table(index='infant', columns=['feature'], values='Value', fill_value=0)\n",
    "holdout_risk_df = holdout_features[['infant', 'risk']].drop_duplicates()\n",
    "\n",
    "train_df = pd.merge(pivot_df, risk_df, on='infant', how='inner')\n",
    "test_df = pd.merge(test_pivot_df, test_risk_df, on='infant', how='inner')\n",
    "holdout_df = pd.merge(holdout_pivot_df, holdout_risk_df, on='infant', how='inner')\n",
    "\n",
    "X = train_df.drop(columns=['infant', 'risk'])\n",
    "y = train_df['risk']\n",
    "\n",
    "X_test = test_df.drop(columns=['infant', 'risk'])\n",
    "y_test = test_df['risk']\n",
    "\n",
    "X_holdout = holdout_df.drop(columns=['infant', 'risk'])\n",
    "y_holdout = holdout_df['risk']"
   ]
  },
  {
   "cell_type": "code",
   "execution_count": null,
   "metadata": {
    "id": "XGVIbuX9B06D"
   },
   "outputs": [],
   "source": [
    "automl = AutoSklearn2Classifier(\n",
    "    ensemble_size=1,\n",
    "    dataset_compression=False,\n",
    "    allow_string_features=False,\n",
    "    time_left_for_this_task=300,\n",
    "    per_run_time_limit=30,\n",
    "    metric=autosklearn.metrics.balanced_accuracy,\n",
    "    delete_tmp_folder_after_terminate=False,\n",
    "    memory_limit=None,\n",
    "    disable_evaluator_output=False,\n",
    ")\n",
    "\n",
    "automl.fit(X, y)\n",
    "probabilities = automl.predict_proba(X_holdout)[:, 1]"
   ]
  },
  {
   "cell_type": "code",
   "execution_count": null,
   "metadata": {
    "id": "g3sb_p3BB1Ed"
   },
   "outputs": [],
   "source": [
    "!wget --content-disposition --max-redirect=20 https://osf.io/download/xa43g/\n",
    "model = pickle.load(open('automl_vanilla_gma_prediction.pkl', 'rb'))\n"
   ]
  }
 ],
 "metadata": {
  "colab": {
   "provenance": []
  },
  "kernelspec": {
   "display_name": "predict_gma",
   "language": "python",
   "name": "python3"
  },
  "language_info": {
   "codemirror_mode": {
    "name": "ipython",
    "version": 3
   },
   "file_extension": ".py",
   "mimetype": "text/x-python",
   "name": "python",
   "nbconvert_exporter": "python",
   "pygments_lexer": "ipython3",
   "version": "3.8.20"
  }
 },
 "nbformat": 4,
 "nbformat_minor": 0
}
