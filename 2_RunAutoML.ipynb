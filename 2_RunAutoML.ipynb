{
  "cells": [
    {
      "cell_type": "code",
      "execution_count": null,
      "metadata": {
        "id": "ngtR6tOyIFM-",
        "vscode": {
          "languageId": "plaintext"
        }
      },
      "outputs": [],
      "source": [
        "!sudo apt install python3.8-full python3-pip\n",
        "!sudo update-alternatives --install /usr/bin/python3 python3 /usr/bin/python3.8 1\n",
        "!pip install auto-sklearn"
      ]
    },
    {
      "cell_type": "code",
      "source": [
        "import pandas as pd\n",
        "import autosklearn\n",
        "import pickle"
      ],
      "metadata": {
        "id": "GOK-Q1JnGmkg"
      },
      "execution_count": null,
      "outputs": []
    },
    {
      "cell_type": "code",
      "source": [
        "import autosklearn\n",
        "\n",
        "\n",
        "features = features[features['id'].isin(train_ids['gma_id']) | features['id'].isin(val_ids['gma_id'])]\n",
        "test_features = features[features['id'].isin(test_ids['gma_id'])]\n",
        "holdout_features = features[features['id'].isin(holdout_ids['gma_id'])]\n",
        "\n",
        "\n",
        "pivot_df = features.pivot_table(index='infant', columns=['feature'], values='Value', fill_value=0)\n",
        "risk_df = features[['infant', 'risk']].drop_duplicates()\n",
        "\n",
        "test_pivot_df = test_features.pivot_table(index='infant', columns=['feature'], values='Value', fill_value=0)\n",
        "test_risk_df = test_features[['infant', 'risk']].drop_duplicates()\n",
        "\n",
        "holdout_pivot_df = holdout_features.pivot_table(index='infant', columns=['feature'], values='Value', fill_value=0)\n",
        "holdout_risk_df = holdout_features[['infant', 'risk']].drop_duplicates()\n",
        "\n",
        "train_df = pd.merge(pivot_df, risk_df, on='infant', how='inner')\n",
        "test_df = pd.merge(test_pivot_df, test_risk_df, on='infant', how='inner')\n",
        "holdout_df = pd.merge(holdout_pivot_df, holdout_risk_df, on='infant', how='inner')\n",
        "\n",
        "X = train_df.drop(columns=['infant', 'risk'])\n",
        "y = train_df['risk']\n",
        "\n",
        "X_test = test_df.drop(columns=['infant', 'risk'])\n",
        "y_test = test_df['risk']\n",
        "\n",
        "X_holdout = holdout_df.drop(columns=['infant', 'risk'])\n",
        "y_holdout = holdout_df['risk']"
      ],
      "metadata": {
        "id": "Wo4ibpkMBlxd"
      },
      "execution_count": null,
      "outputs": []
    },
    {
      "cell_type": "code",
      "source": [
        "  automl = AutoSklearn2Classifier(\n",
        "      ensemble_size=1,\n",
        "      dataset_compression=False,\n",
        "      allow_string_features=False,\n",
        "      time_left_for_this_task=300,\n",
        "      per_run_time_limit=30,\n",
        "      metric=autosklearn.metrics.balanced_accuracy,\n",
        "      delete_tmp_folder_after_terminate=False,\n",
        "      memory_limit=None,\n",
        "      disable_evaluator_output=False,\n",
        "  )\n",
        "\n",
        "automl.fit(X_train, y_train)\n",
        "probabilities = automl.predict_proba(X_holdout)[:, 1]"
      ],
      "metadata": {
        "id": "XGVIbuX9B06D"
      },
      "execution_count": null,
      "outputs": []
    },
    {
      "cell_type": "code",
      "source": [
        "!wget --content-disposition --max-redirect=20 https://osf.io/download/xa43g/\n",
        "model = pickle.load(open('automl_vanilla_gma_prediction.pkl', 'rb'))\n"
      ],
      "metadata": {
        "id": "g3sb_p3BB1Ed"
      },
      "execution_count": null,
      "outputs": []
    }
  ],
  "metadata": {
    "language_info": {
      "name": "python"
    },
    "colab": {
      "provenance": []
    },
    "kernelspec": {
      "name": "python3",
      "display_name": "Python 3"
    }
  },
  "nbformat": 4,
  "nbformat_minor": 0
}