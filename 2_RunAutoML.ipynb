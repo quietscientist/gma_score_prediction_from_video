{
 "cells": [
  {
   "cell_type": "code",
   "execution_count": null,
   "metadata": {
    "id": "ngtR6tOyIFM-"
   },
   "outputs": [],
   "source": [
    "# Depricated from Google Colab as of 2024-12-01\n",
    "\n",
    "# !sudo apt install python3.9-full python3-pip\n",
    "# !sudo update-alternatives --install /usr/bin/python3 python3 /usr/bin/python3.9 1\n",
    "\n",
    "# !pip uninstall -y scikit-learn scipy pyparsing -y\n",
    "# !pip install Cython==0.29.36 scipy==1.9 pyparsing==2.4\n",
    "# !pip install https://files.pythonhosted.org/packages/04/e2/b43d4205124dd4c1f14606b2e2d78303db993c6653a90bf11dd0ffe23b5b/scikit_learn-0.24.2-cp39-cp39-manylinux2010_x86_64.whl --no-build-isolation\n"
   ]
  },
  {
   "cell_type": "code",
   "execution_count": 4,
   "metadata": {
    "id": "GOK-Q1JnGmkg"
   },
   "outputs": [],
   "source": [
    "import pandas as pd\n",
    "import pickle\n",
    "import autosklearn\n",
    "from autosklearn.experimental.askl2 import AutoSklearn2Classifier\n",
    "\n",
    "from sklearn.model_selection import train_test_split\n",
    "from pprint import pprint\n",
    "\n",
    "import matplotlib.pyplot as plt\n",
    "import numpy as np\n",
    "\n",
    "import autosklearn.classification\n",
    "import autosklearn.metrics\n",
    "\n",
    "from smac.optimizer.smbo import SMBO\n",
    "from smac.runhistory.runhistory import RunInfo, RunValue\n",
    "\n",
    "import matplotlib.pyplot as plt\n",
    "from sklearn.metrics import roc_curve, auc, precision_recall_curve, average_precision_score\n",
    "\n",
    "from sklearn.metrics import roc_curve, auc\n",
    "import matplotlib.pyplot as plt\n",
    "from sklearn.model_selection import train_test_split\n"
   ]
  },
  {
   "cell_type": "code",
   "execution_count": 8,
   "metadata": {},
   "outputs": [
    {
     "name": "stdout",
     "output_type": "stream",
     "text": [
      "--2025-01-01 20:39:54--  https://files.osf.io/v1/resources/gztmd/providers/osfstorage/?zip=\n",
      "Resolving files.osf.io (files.osf.io)... 35.186.214.196\n",
      "Connecting to files.osf.io (files.osf.io)|35.186.214.196|:443... connected.\n",
      "HTTP request sent, awaiting response... 200 OK\n",
      "Length: unspecified [application/zip]\n",
      "Saving to: ‘osf.zip’\n",
      "\n",
      "osf.zip                 [  <=>               ] 419.31K   215KB/s    in 2.0s    \n",
      "\n",
      "2025-01-01 20:39:57 (215 KB/s) - ‘osf.zip’ saved [429373]\n",
      "\n",
      "Archive:  osf.zip\n",
      "  inflating: data/Infant Pose Data/gma_score_prediction/automl_vanilla_gma_prediction.pkl  \n",
      "  inflating: data/Infant Pose Data/gma_score_prediction/train.csv  \n",
      "  inflating: data/Infant Pose Data/gma_score_prediction/val.csv  \n",
      "  inflating: data/Infant Pose Data/gma_score_prediction/test.csv  \n",
      "  inflating: data/Infant Pose Data/gma_score_prediction/holdout.csv  \n",
      "  inflating: data/Infant Pose Data/gma_score_prediction/all_videos_with_exclusions.csv  \n",
      "  inflating: data/Infant Pose Data/gma_score_prediction/exclusions.json  \n",
      "  inflating: data/Infant Pose Data/gma_score_prediction/all_excluded_videos.csv  \n",
      "  inflating: data/Infant Pose Data/gma_score_prediction/gma_dictionary.json  \n"
     ]
    }
   ],
   "source": [
    "# download data from osf to data/gma_score_prediction\n",
    "!wget -O osf.zip \"https://files.osf.io/v1/resources/gztmd/providers/osfstorage/?zip=\"\n",
    "!unzip -o \"osf.zip\" -d \"data/Infant Pose Data/gma_score_prediction\"\n"
   ]
  },
  {
   "cell_type": "code",
   "execution_count": 12,
   "metadata": {},
   "outputs": [],
   "source": [
    "train_ids = pd.read_csv('./data/Infant Pose Data/gma_score_prediction/train.csv')\n",
    "val_ids = pd.read_csv('./data/Infant Pose Data/gma_score_prediction/val.csv')\n",
    "test_ids = pd.read_csv('./data/Infant Pose Data/gma_score_prediction/test.csv')\n",
    "holdout_ids = pd.read_csv('./data/Infant Pose Data/gma_score_prediction/holdout.csv')"
   ]
  },
  {
   "cell_type": "code",
   "execution_count": 6,
   "metadata": {
    "id": "Wo4ibpkMBlxd"
   },
   "outputs": [
    {
     "ename": "NameError",
     "evalue": "name 'train_ids' is not defined",
     "output_type": "error",
     "traceback": [
      "\u001b[0;31m---------------------------------------------------------------------------\u001b[0m",
      "\u001b[0;31mNameError\u001b[0m                                 Traceback (most recent call last)",
      "Cell \u001b[0;32mIn[6], line 4\u001b[0m\n\u001b[1;32m      1\u001b[0m \u001b[38;5;66;03m## Import features generated from previous notebook\u001b[39;00m\n\u001b[1;32m      2\u001b[0m features \u001b[38;5;241m=\u001b[39m pd\u001b[38;5;241m.\u001b[39mread_csv(\u001b[38;5;124m'\u001b[39m\u001b[38;5;124mpose_estimates/gma_score_prediction_pose_estimates/features.csv\u001b[39m\u001b[38;5;124m'\u001b[39m)\n\u001b[0;32m----> 4\u001b[0m features \u001b[38;5;241m=\u001b[39m features[features[\u001b[38;5;124m'\u001b[39m\u001b[38;5;124minfant\u001b[39m\u001b[38;5;124m'\u001b[39m]\u001b[38;5;241m.\u001b[39misin(\u001b[43mtrain_ids\u001b[49m[\u001b[38;5;124m'\u001b[39m\u001b[38;5;124mgma_id\u001b[39m\u001b[38;5;124m'\u001b[39m]) \u001b[38;5;241m|\u001b[39m features[\u001b[38;5;124m'\u001b[39m\u001b[38;5;124mid\u001b[39m\u001b[38;5;124m'\u001b[39m]\u001b[38;5;241m.\u001b[39misin(val_ids[\u001b[38;5;124m'\u001b[39m\u001b[38;5;124mgma_id\u001b[39m\u001b[38;5;124m'\u001b[39m])]\n\u001b[1;32m      5\u001b[0m test_features \u001b[38;5;241m=\u001b[39m features[features[\u001b[38;5;124m'\u001b[39m\u001b[38;5;124minfant\u001b[39m\u001b[38;5;124m'\u001b[39m]\u001b[38;5;241m.\u001b[39misin(test_ids[\u001b[38;5;124m'\u001b[39m\u001b[38;5;124mgma_id\u001b[39m\u001b[38;5;124m'\u001b[39m])]\n\u001b[1;32m      6\u001b[0m holdout_features \u001b[38;5;241m=\u001b[39m features[features[\u001b[38;5;124m'\u001b[39m\u001b[38;5;124mintant\u001b[39m\u001b[38;5;124m'\u001b[39m]\u001b[38;5;241m.\u001b[39misin(holdout_ids[\u001b[38;5;124m'\u001b[39m\u001b[38;5;124mgma_id\u001b[39m\u001b[38;5;124m'\u001b[39m])]\n",
      "\u001b[0;31mNameError\u001b[0m: name 'train_ids' is not defined"
     ]
    }
   ],
   "source": [
    "\n",
    "## Import features generated from previous notebook\n",
    "features = pd.read_csv('pose_estimates/gma_score_prediction_pose_estimates/features.csv')\n",
    "\n",
    "features = features[features['infant'].isin(train_ids['gma_id']) | features['id'].isin(val_ids['gma_id'])]\n",
    "test_features = features[features['infant'].isin(test_ids['gma_id'])]\n",
    "holdout_features = features[features['intant'].isin(holdout_ids['gma_id'])]\n",
    "\n",
    "\n",
    "pivot_df = features.pivot_table(index='infant', columns=['feature'], values='Value', fill_value=0)\n",
    "risk_df = features[['infant', 'risk']].drop_duplicates()\n",
    "\n",
    "test_pivot_df = test_features.pivot_table(index='infant', columns=['feature'], values='Value', fill_value=0)\n",
    "test_risk_df = test_features[['infant', 'risk']].drop_duplicates()\n",
    "\n",
    "holdout_pivot_df = holdout_features.pivot_table(index='infant', columns=['feature'], values='Value', fill_value=0)\n",
    "holdout_risk_df = holdout_features[['infant', 'risk']].drop_duplicates()\n",
    "\n",
    "train_df = pd.merge(pivot_df, risk_df, on='infant', how='inner')\n",
    "test_df = pd.merge(test_pivot_df, test_risk_df, on='infant', how='inner')\n",
    "holdout_df = pd.merge(holdout_pivot_df, holdout_risk_df, on='infant', how='inner')\n",
    "\n",
    "X = train_df.drop(columns=['infant', 'risk'])\n",
    "y = train_df['risk']\n",
    "\n",
    "X_test = test_df.drop(columns=['infant', 'risk'])\n",
    "y_test = test_df['risk']\n",
    "\n",
    "X_holdout = holdout_df.drop(columns=['infant', 'risk'])\n",
    "y_holdout = holdout_df['risk']"
   ]
  },
  {
   "cell_type": "code",
   "execution_count": null,
   "metadata": {
    "id": "XGVIbuX9B06D"
   },
   "outputs": [],
   "source": [
    "automl = AutoSklearn2Classifier(\n",
    "    ensemble_size=1,\n",
    "    dataset_compression=False,\n",
    "    allow_string_features=False,\n",
    "    time_left_for_this_task=300,\n",
    "    per_run_time_limit=30,\n",
    "    metric=autosklearn.metrics.balanced_accuracy,\n",
    "    delete_tmp_folder_after_terminate=False,\n",
    "    memory_limit=None,\n",
    "    disable_evaluator_output=False,\n",
    ")\n",
    "\n",
    "automl.fit(X, y)\n",
    "probabilities = automl.predict_proba(X_holdout)[:, 1]"
   ]
  },
  {
   "cell_type": "code",
   "execution_count": null,
   "metadata": {
    "id": "g3sb_p3BB1Ed"
   },
   "outputs": [],
   "source": [
    "!wget --content-disposition --max-redirect=20 https://osf.io/download/xa43g/\n",
    "model = pickle.load(open('automl_vanilla_gma_prediction.pkl', 'rb'))\n"
   ]
  }
 ],
 "metadata": {
  "colab": {
   "provenance": []
  },
  "kernelspec": {
   "display_name": "predict_gma",
   "language": "python",
   "name": "python3"
  },
  "language_info": {
   "codemirror_mode": {
    "name": "ipython",
    "version": 3
   },
   "file_extension": ".py",
   "mimetype": "text/x-python",
   "name": "python",
   "nbconvert_exporter": "python",
   "pygments_lexer": "ipython3",
   "version": "3.8.20"
  }
 },
 "nbformat": 4,
 "nbformat_minor": 0
}
