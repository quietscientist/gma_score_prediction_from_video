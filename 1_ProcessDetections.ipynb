{
 "cells": [
  {
   "cell_type": "code",
   "execution_count": 1,
   "metadata": {
    "colab": {
     "base_uri": "https://localhost:8080/"
    },
    "id": "ngtR6tOyIFM-",
    "outputId": "12e32194-6ae4-45c0-f4e5-3e1a3d8c66f8"
   },
   "outputs": [],
   "source": [
    "import warnings\n",
    "import os\n",
    "warnings.filterwarnings(\"ignore\")\n",
    "\n",
    "os.makedirs('./data',exist_ok=True)\n",
    "os.makedirs('./utils',exist_ok=True)\n",
    "\n",
    "#download custom processing scripts if not already downloaded\n",
    "# !wget -P . https://raw.githubusercontent.com/quietscientist/gma_score_prediction_from_video/refs/heads/main/utils/kinematics.py\n",
    "# !wget -P . https://raw.githubusercontent.com/quietscientist/gma_score_prediction_from_video/refs/heads/main/utils/circstat.py\n",
    "# !wget -P . https://raw.githubusercontent.com/quietscientist/gma_score_prediction_from_video/refs/heads/main/utils/processing.py\n",
    "# !wget -P . https://raw.githubusercontent.com/quietscientist/gma_score_prediction_from_video/refs/heads/main/utils/skeleton.py\n",
    "\n",
    "#download example data or upload your own json annotations\n",
    "\n",
    "#--------------------------------------------------------------------------------------\n",
    "# Download example raw data from figshare or specify path to your own json annotations |\n",
    "#--------------------------------------------------------------------------------------\n",
    "\n",
    "#!wget -P . https://figshare.com/ndownloader/articles/25316500/versions/1\n",
    "# #unzip data into ./data folder and remove zip file\n",
    "# !unzip ./1 -d ./data\n",
    "# !rm ./1"
   ]
  },
  {
   "cell_type": "code",
   "execution_count": 2,
   "metadata": {
    "colab": {
     "base_uri": "https://localhost:8080/"
    },
    "id": "0pjaLpviIFNA",
    "outputId": "25749e58-269a-48d4-aa72-667fc737ce05"
   },
   "outputs": [],
   "source": [
    "#uncomment install if running on google colab\n",
    "#%pip install scikit-video\n",
    "\n",
    "import sys, os, cv2, glob, json, gc\n",
    "import matplotlib.pyplot as plt\n",
    "import numpy as np\n",
    "from matplotlib.animation import FuncAnimation\n",
    "import json\n",
    "import numpy as np\n",
    "import pandas as pd\n",
    "import itertools\n",
    "from itertools import chain\n",
    "from moviepy.editor import VideoFileClip\n",
    "import skvideo.io\n",
    "from tqdm import tqdm\n",
    "import circstat as CS\n",
    "import scipy as sc\n",
    "import math\n",
    "\n",
    "from processing import *\n",
    "from kinematics import *\n",
    "from skeleton import *"
   ]
  },
  {
   "cell_type": "code",
   "execution_count": null,
   "metadata": {
    "colab": {
     "base_uri": "https://localhost:8080/"
    },
    "id": "VQ7Dz7hYfoAg",
    "outputId": "dd4ea572-f5c7-4660-b7d2-f07381427692"
   },
   "outputs": [
    {
     "name": "stderr",
     "output_type": "stream",
     "text": [
      "  0%|          | 0/1057 [00:00<?, ?it/s]\n"
     ]
    },
    {
     "ename": "IndexError",
     "evalue": "index 0 is out of bounds for axis 0 with size 0",
     "output_type": "error",
     "traceback": [
      "\u001b[0;31m---------------------------------------------------------------------------\u001b[0m",
      "\u001b[0;31mIndexError\u001b[0m                                Traceback (most recent call last)",
      "Cell \u001b[0;32mIn[5], line 42\u001b[0m\n\u001b[1;32m     40\u001b[0m frames \u001b[38;5;241m=\u001b[39m json\u001b[38;5;241m.\u001b[39mload(f)\n\u001b[1;32m     41\u001b[0m info \u001b[38;5;241m=\u001b[39m vid_info[vid_info[\u001b[38;5;124m'\u001b[39m\u001b[38;5;124mvideo\u001b[39m\u001b[38;5;124m'\u001b[39m] \u001b[38;5;241m==\u001b[39m fname]\n\u001b[0;32m---> 42\u001b[0m fps \u001b[38;5;241m=\u001b[39m \u001b[43minfo\u001b[49m\u001b[43m[\u001b[49m\u001b[38;5;124;43m'\u001b[39;49m\u001b[38;5;124;43mfps\u001b[39;49m\u001b[38;5;124;43m'\u001b[39;49m\u001b[43m]\u001b[49m\u001b[38;5;241;43m.\u001b[39;49m\u001b[43mvalues\u001b[49m\u001b[43m[\u001b[49m\u001b[38;5;241;43m0\u001b[39;49m\u001b[43m]\u001b[49m\n\u001b[1;32m     44\u001b[0m pixel_x \u001b[38;5;241m=\u001b[39m info[\u001b[38;5;124m'\u001b[39m\u001b[38;5;124mwidth\u001b[39m\u001b[38;5;124m'\u001b[39m]\u001b[38;5;241m.\u001b[39mvalues[\u001b[38;5;241m0\u001b[39m]\n\u001b[1;32m     45\u001b[0m pixel_y \u001b[38;5;241m=\u001b[39m info[\u001b[38;5;124m'\u001b[39m\u001b[38;5;124mheight\u001b[39m\u001b[38;5;124m'\u001b[39m]\u001b[38;5;241m.\u001b[39mvalues[\u001b[38;5;241m0\u001b[39m]\n",
      "\u001b[0;31mIndexError\u001b[0m: index 0 is out of bounds for axis 0 with size 0"
     ]
    }
   ],
   "source": [
    "# format files as pkl with openpose standard and bodypart labels\n",
    "\n",
    "from tqdm import tqdm\n",
    "\n",
    "OVERWRITE = True\n",
    "USE_CENTER_INSTANCE = False\n",
    "USE_BEST_INSTANCE = True\n",
    "\n",
    "dataset = 'gma_score_prediction'\n",
    "json_path = f'./data/Infant Pose Data/{dataset}/annotations'\n",
    "json_files = os.listdir(json_path)\n",
    "directory = f'./data'\n",
    "\n",
    "save_path = f'./pose_estimates/{dataset}_norm'\n",
    "\n",
    "if not os.path.exists(save_path):\n",
    "    os.makedirs(save_path)\n",
    "\n",
    "kp_mapping = {0:'Nose', 1:'Neck', 2:'RShoulder', 3:'RElbow', 4:'RWrist', 5:'LShoulder', 6:'LElbow',\n",
    "              7:'LWrist', 8:'RHip', 9:'RKnee', 10:'RAnkle', 11:'LHip',\n",
    "              12:'LKnee', 13:'LAnkle', 14:'REye', 15:'LEye', 16:'REar', 17:'LEar'}\n",
    "\n",
    "# Define the DataFrame columns as specified\n",
    "columns = ['video_number', 'video', 'bp', 'frame', 'x', 'y', 'c','fps', 'pixel_x', 'pixel_y', 'time', 'part_idx']\n",
    "data = []  # This will hold the data to be loaded into the DataFrame\n",
    "\n",
    "vid_info = pd.read_csv(f'./data/{dataset}_video_info.csv')\n",
    "\n",
    "for file_number, file in enumerate(tqdm(json_files)):\n",
    "    # Construct the full file path\n",
    "    file_path = os.path.join(json_path, file)\n",
    "    fname = file.split('.')[0]\n",
    "    interim = []\n",
    "\n",
    "    if not OVERWRITE and os.path.exists(f'{save_path}/{fname}.pkl'):\n",
    "        continue\n",
    "\n",
    "    # Open and load the JSON data\n",
    "    with open(file_path, 'r') as f:\n",
    "        frames = json.load(f)\n",
    "        info = vid_info[vid_info['video'] == fname]\n",
    "        fps = vid_info['fps'].values[0]\n",
    "\n",
    "        pixel_x = vid_info['width'].values[0]\n",
    "        pixel_y = vid_info['height'].values[0]\n",
    "        \n",
    "        center_x = pixel_x / 2\n",
    "        center_y = pixel_y / 2\n",
    "        \n",
    "        # Iterate through each frame in the JSON file\n",
    "        for frame in frames:\n",
    "            frame_id = frame['frame_id']\n",
    "            if 'instances' in frame and len(frame['instances']) > 0:\n",
    "\n",
    "                if USE_CENTER_INSTANCE:\n",
    "                    instance_id = get_center_instance(frame['instances'], center_x, center_y)\n",
    "                elif USE_BEST_INSTANCE:\n",
    "                    instance_id = get_best_instance(frame['instances'])\n",
    "                else:\n",
    "                    instance_id = 0\n",
    "\n",
    "                keypoints = frame['instances'][instance_id]['keypoints']\n",
    "                confidence = frame['instances'][instance_id]['keypoint_scores']\n",
    "                keypoints, confidence = convert_coco_to_openpose(keypoints, confidence)\n",
    "\n",
    "                # Iterate through each keypoint\n",
    "                for part_idx, (x, y) in enumerate(keypoints):\n",
    "\n",
    "                    bp = kp_mapping[part_idx]\n",
    "                    fps = fps\n",
    "                    time = frame_id / fps\n",
    "                    c = confidence[part_idx]\n",
    "\n",
    "                    row = [file_number, fname, bp, frame_id, x, y, c, fps, pixel_x, pixel_y, time, part_idx]\n",
    "                    interim.append(row)\n",
    "\n",
    "    interim_df = pd.DataFrame(interim, columns=columns)\n",
    "    interim_df.to_pickle(f'{save_path}/{fname}.pkl')\n",
    "\n",
    "    del interim_df\n"
   ]
  },
  {
   "cell_type": "code",
   "execution_count": 19,
   "metadata": {
    "colab": {
     "base_uri": "https://localhost:8080/"
    },
    "id": "gF9SA7KO1jbQ",
    "outputId": "0f87b278-d65f-4fba-9149-bd36844f6390"
   },
   "outputs": [
    {
     "name": "stdout",
     "output_type": "stream",
     "text": [
      "Removed existing CSV file\n"
     ]
    },
    {
     "name": "stderr",
     "output_type": "stream",
     "text": [
      "100%|██████████| 33/33 [00:22<00:00,  1.47it/s]\n"
     ]
    }
   ],
   "source": [
    "# Ensure the save_path directory exists\n",
    "save_path = f'./pose_estimates/{dataset}_norm'\n",
    "\n",
    "if os.path.exists(f'{save_path}/pose_estimates_{dataset}.csv'):\n",
    "    os.remove(f'{save_path}/pose_estimates_{dataset}.csv')\n",
    "    print('Removed existing CSV file')\n",
    "\n",
    "for pklfile in tqdm(os.listdir(save_path)):\n",
    "    if not pklfile.endswith('.pkl'):\n",
    "        continue\n",
    "    else:\n",
    "        interim_df = pd.read_pickle(f'{save_path}/{pklfile}')\n",
    "        interim_df.to_csv(f'{save_path}/pose_estimates_{dataset}.csv', mode='a', header=False, index=False)\n",
    "\n",
    "    del interim_df"
   ]
  },
  {
   "cell_type": "code",
   "execution_count": 20,
   "metadata": {
    "id": "ERK1DQ-92DsG"
   },
   "outputs": [],
   "source": [
    "csv_path = f'{save_path}/pose_estimates_{dataset}.csv'\n",
    "output_csv_path = f'{save_path}/pose_estimates_{dataset}_b.csv'\n",
    "chunksize = 1000  # Number of rows per chunk\n",
    "\n",
    "# Define the new headers\n",
    "new_headers = ['video_number', 'video', 'bp', 'frame', 'x', 'y', 'c', 'fps', 'pixel_x', 'pixel_y', 'time', 'part_idx']\n",
    "\n",
    "# Read the CSV file in chunks\n",
    "chunk_iterator = pd.read_csv(csv_path, chunksize=chunksize)\n",
    "\n",
    "# Process the first chunk\n",
    "first_chunk = next(chunk_iterator)\n",
    "first_chunk.columns = new_headers\n",
    "first_chunk.to_csv(output_csv_path, index=False)\n",
    "\n",
    "# Process the rest of the chunks and append them to the new CSV file without headers\n",
    "for chunk in chunk_iterator:\n",
    "    chunk.columns = new_headers\n",
    "    chunk.to_csv(output_csv_path, mode='a', index=False, header=False)\n",
    "\n",
    "# rename the csv file\n",
    "os.rename(csv_path, f'{save_path}/pose_estimates_{dataset}_x.csv')\n",
    "os.rename(output_csv_path, csv_path)\n"
   ]
  },
  {
   "cell_type": "code",
   "execution_count": 21,
   "metadata": {
    "id": "H5A-LkovEMav"
   },
   "outputs": [],
   "source": [
    "def process_dataframe(df, pose_estimate_path):\n",
    "    if df.empty:\n",
    "        print(\"DataFrame is empty, skipping processing.\")\n",
    "        return\n",
    "\n",
    "    print(f\"Processing DataFrame for video_number: {df['video_number'].iloc[0]}\")\n",
    "    try:\n",
    "        if dataset == 'Youtube':\n",
    "            session = df['video'].unique()[0].split('_')[1][0]\n",
    "            infant = df['video'].unique()[0].split('_')[1][3:]\n",
    "        elif dataset == 'Clinical':\n",
    "            # split based on naming convention\n",
    "            session = df['video'].unique()[0].split('_')[1][1]\n",
    "            infant = df['video'].unique()[0].split('_')[0][-1]\n",
    "\n",
    "        age = 'month'\n",
    "\n",
    "        print(f'infant: {infant}, session: {session}')\n",
    "\n",
    "    except:\n",
    "        f'could not process video {df[\"video\"].unique()[0]}'\n",
    "        return\n",
    "\n",
    "    median_window = 1\n",
    "    mean_window = 1\n",
    "    delta_window = 0.25  # Smoothing applied to delta_x, velocity, acceleration\n",
    "\n",
    "    df['x'] = pd.to_numeric(df['x'])\n",
    "    df['y'] = pd.to_numeric(df['y'])\n",
    "\n",
    "    # Interpolate\n",
    "    df = df.groupby(['video', 'bp']).apply(interpolate_df).reset_index(drop=True)\n",
    "\n",
    "    # Median and mean filter\n",
    "    median_window = 0.5\n",
    "    mean_window = 0.5\n",
    "    df = df.groupby(['video', 'bp']).apply(lambda x: smooth(x, 'y', median_window, mean_window)).reset_index(drop=True)\n",
    "    df = df.groupby(['video', 'bp']).apply(lambda x: smooth(x, 'x', median_window, mean_window)).reset_index(drop=True)\n",
    "\n",
    "    try:\n",
    "        # Rotate and normalise by reference\n",
    "        xdf = normalise_skeletons(df)\n",
    "        xdf = get_dynamics_xy(xdf, delta_window)\n",
    "        xdf.to_pickle(f'{pose_estimate_path}/xdf/{infant}_{session}_processed_pose_estimates_coords_norm.pkl')\n",
    "\n",
    "        adf = get_joint_angles(df)\n",
    "        adf = get_dynamics_angle(adf, delta_window)\n",
    "        adf.to_pickle(f'{pose_estimate_path}/adf/{infant}_{session}_processed_pose_estimates_coords_norm.pkl')\n",
    "\n",
    "    except KeyError as e:\n",
    "        print(f'Error processing video for {infant}: {e}')\n"
   ]
  },
  {
   "cell_type": "code",
   "execution_count": 22,
   "metadata": {
    "id": "I4107PvX25fK"
   },
   "outputs": [],
   "source": [
    "# Smooth detections and compute features\n",
    "\n",
    "pose_estimate_path = f'./pose_estimates/{dataset}_norm'\n",
    "csv_path = f'{pose_estimate_path}/pose_estimates_{dataset}.csv'\n",
    "save_path = f'{pose_estimate_path}/pose_estimates_{dataset}_processed.csv'\n",
    "\n",
    "# Create necessary directories\n",
    "os.makedirs(pose_estimate_path, exist_ok=True)\n",
    "os.makedirs(f'{pose_estimate_path}/xdf', exist_ok=True)\n",
    "os.makedirs(f'{pose_estimate_path}/adf', exist_ok=True)"
   ]
  },
  {
   "cell_type": "code",
   "execution_count": 23,
   "metadata": {
    "colab": {
     "base_uri": "https://localhost:8080/"
    },
    "id": "u0ik4gOyCDVZ",
    "outputId": "f16fdcc3-5798-47cc-f78c-282d79d7e7ae"
   },
   "outputs": [
    {
     "name": "stdout",
     "output_type": "stream",
     "text": [
      "Processing DataFrame for video_number: 0\n",
      "Processing DataFrame for video_number: 1\n",
      "Processing DataFrame for video_number: 2\n",
      "Processing DataFrame for video_number: 3\n",
      "Processing DataFrame for video_number: 4\n",
      "infant: 7, session: 0\n",
      "Processing DataFrame for video_number: 5\n",
      "Processing DataFrame for video_number: 6\n",
      "Processing DataFrame for video_number: 7\n",
      "Processing DataFrame for video_number: 8\n",
      "Processing DataFrame for video_number: 9\n",
      "Processing DataFrame for video_number: 10\n",
      "Processing DataFrame for video_number: 11\n",
      "Processing DataFrame for video_number: 12\n",
      "Processing DataFrame for video_number: 13\n",
      "Processing DataFrame for video_number: 14\n",
      "Processing DataFrame for video_number: 15\n",
      "Processing DataFrame for video_number: 16\n",
      "Processing DataFrame for video_number: 17\n",
      "Processing DataFrame for video_number: 18\n",
      "Processing DataFrame for video_number: 19\n",
      "Processing DataFrame for video_number: 20\n",
      "Processing DataFrame for video_number: 21\n",
      "Processing DataFrame for video_number: 22\n",
      "Processing DataFrame for video_number: 23\n",
      "Processing DataFrame for video_number: 24\n",
      "infant: 7, session: 1\n",
      "Processing DataFrame for video_number: 25\n",
      "Processing DataFrame for video_number: 26\n",
      "infant: 7, session: 0\n",
      "Processing DataFrame for video_number: 27\n",
      "Processing DataFrame for video_number: 28\n",
      "Processing DataFrame for video_number: 29\n",
      "Processing remaining rows in the buffer...\n",
      "Processing DataFrame for video_number: 30\n"
     ]
    }
   ],
   "source": [
    "chunksize = 100000\n",
    "buffer = pd.DataFrame()\n",
    "\n",
    "# Read the CSV file in chunks\n",
    "chunk_iterator = pd.read_csv(csv_path, chunksize=chunksize)\n",
    "\n",
    "for chunk in chunk_iterator:\n",
    "  unique_videos = chunk['video_number'].unique()\n",
    "\n",
    "  for video_number in unique_videos:\n",
    "      video_chunk = chunk[chunk['video_number'] == video_number]\n",
    "\n",
    "      if not buffer.empty:\n",
    "        if buffer['video_number'].iloc[0] == video_number:\n",
    "\n",
    "            buffer = pd.concat([buffer, video_chunk], ignore_index=True)\n",
    "            if video_number not in chunk['video_number'].values:\n",
    "                process_dataframe(buffer, pose_estimate_path)\n",
    "                buffer = pd.DataFrame()\n",
    "\n",
    "        else:\n",
    "            process_dataframe(buffer, pose_estimate_path)\n",
    "            buffer = video_chunk\n",
    "      else:\n",
    "          buffer = video_chunk\n",
    "\n",
    "  chunk = chunk[~chunk['video_number'].isin(unique_videos)]\n",
    "\n",
    "# # Process any remaining rows in the buffer\n",
    "if not buffer.empty:\n",
    "    print(\"Processing remaining rows in the buffer...\")\n",
    "    process_dataframe(buffer, pose_estimate_path)"
   ]
  },
  {
   "cell_type": "code",
   "execution_count": 24,
   "metadata": {
    "colab": {
     "base_uri": "https://localhost:8080/"
    },
    "id": "aPDofv7P3S1Q",
    "outputId": "aa26a252-a06d-46ec-e733-f7abe4a50124"
   },
   "outputs": [
    {
     "name": "stderr",
     "output_type": "stream",
     "text": [
      "100%|██████████| 2/2 [00:00<00:00, 10.72it/s]\n"
     ]
    }
   ],
   "source": [
    "# Compute angular features\n",
    "\n",
    "HEADER_WRITTEN = False\n",
    "\n",
    "for file in tqdm(os.listdir(f'{pose_estimate_path}/adf')):\n",
    "    if 'pkl' in file:\n",
    "\n",
    "        adf = pd.read_pickle(os.path.join(f'{pose_estimate_path}/adf', file))\n",
    "\n",
    "        # angle features\n",
    "        feature_angle = adf.groupby(['bp','video']).apply(angle_features).reset_index(drop=True)\n",
    "        feature_angle = pd.pivot_table(feature_angle, index='video', columns=['bp'])\n",
    "        l0 = feature_angle.columns.get_level_values(1)\n",
    "        l1 = feature_angle.columns.get_level_values(0)\n",
    "        cols = [l1[i]+'_'+l0[i] for i in range(len(l1))]\n",
    "        feature_angle.columns = cols\n",
    "        feature_angle =feature_angle.reset_index()\n",
    "\n",
    "        # - measure of symmetry (left-right cross correlation)\n",
    "        corr_joint = adf.groupby(['video', 'part']).apply(lambda x:corr_lr(x,'angle')).reset_index()\n",
    "        corr_joint['part'] = 'lrCorr_angle_'+corr_joint['part']\n",
    "        corr_joint.columns = ['video', 'feature', 'Value']\n",
    "        corr_joint = pd.pivot_table(corr_joint, index='video', columns=['feature'])\n",
    "        l1 = corr_joint.columns.get_level_values(1)\n",
    "        corr_joint.columns = l1\n",
    "        corr_joint = corr_joint.reset_index()\n",
    "        feature_angle = pd.merge(feature_angle,corr_joint, on='video', how='outer')\n",
    "\n",
    "        if not HEADER_WRITTEN:\n",
    "            feature_angle.to_csv(f'{pose_estimate_path}/features_angle.csv', header=True, index=False)\n",
    "            HEADER_WRITTEN = True\n",
    "        else:\n",
    "            feature_angle.to_csv(f'{pose_estimate_path}/features_angle.csv', header=False, index=False, mode='a')"
   ]
  },
  {
   "cell_type": "code",
   "execution_count": 26,
   "metadata": {
    "colab": {
     "base_uri": "https://localhost:8080/"
    },
    "id": "AenvmNmB3cc5",
    "outputId": "7925b160-4c5f-45f2-fe96-c02775cf3106"
   },
   "outputs": [
    {
     "name": "stderr",
     "output_type": "stream",
     "text": [
      "100%|██████████| 2/2 [00:00<00:00,  8.45it/s]\n"
     ]
    }
   ],
   "source": [
    "# Compute XY features\n",
    "\n",
    "HEADER_WRITTEN = False\n",
    "\n",
    "for file in tqdm(os.listdir(f'{pose_estimate_path}/xdf')):\n",
    "    if 'pkl' in file:\n",
    "\n",
    "        xdf = pd.read_pickle(os.path.join(f'{pose_estimate_path}/xdf', file))\n",
    "\n",
    "        # xy features\n",
    "        bps = ['LAnkle', 'RAnkle', 'LWrist', 'RWrist']\n",
    "        feature_xy = xdf[np.isin(xdf.bp, bps)].groupby(['bp','video']).apply(xy_features).reset_index(drop=True)\n",
    "        feature_xy = pd.pivot_table(feature_xy, index='video', columns=['bp'])\n",
    "        l0 = feature_xy.columns.get_level_values(1)\n",
    "        l1 = feature_xy.columns.get_level_values(0)\n",
    "        cols = [l1[i]+'_'+l0[i] for i in range(len(l1))]\n",
    "        feature_xy.columns = cols\n",
    "        feature_xy = feature_xy.reset_index()\n",
    "        # - measure of symmetry (left-right cross correlation)\n",
    "        xdf['dist'] = np.sqrt(xdf['x']**2+xdf['y']**2)\n",
    "        corr_joint = xdf.groupby(['video', 'part']).apply(lambda x:corr_lr(x,'dist')).reset_index()\n",
    "        corr_joint['part'] = 'lrCorr_x_'+corr_joint['part']\n",
    "        corr_joint.columns = ['video', 'feature', 'Value']\n",
    "        corr_joint = pd.pivot_table(corr_joint, index='video', columns=['feature'])\n",
    "        l1 = corr_joint.columns.get_level_values(1)\n",
    "        corr_joint.columns = l1\n",
    "        corr_joint = corr_joint.reset_index()\n",
    "        feature_xy = pd.merge(feature_xy, corr_joint, on='video', how='outer')\n",
    "\n",
    "        if not HEADER_WRITTEN:\n",
    "            feature_xy.to_csv(f'{pose_estimate_path}/features_xy.csv', header=True, index=False, mode='a')\n",
    "            HEADER_WRITTEN = True\n",
    "        else:\n",
    "            feature_xy.to_csv(f'{pose_estimate_path}/features_xy.csv', header=False, index=False, mode='a')"
   ]
  },
  {
   "cell_type": "code",
   "execution_count": 27,
   "metadata": {
    "id": "VhWbYFEQ5L8X"
   },
   "outputs": [],
   "source": [
    "# Combine features\n",
    "SAVE = True\n",
    "\n",
    "features_xy = pd.read_csv(f'{pose_estimate_path}/features_xy.csv')\n",
    "features_angle = pd.read_csv(f'{pose_estimate_path}/features_angle.csv')\n",
    "\n",
    "features = pd.merge(features_xy, features_angle, on='video', how='inner')"
   ]
  },
  {
   "cell_type": "code",
   "execution_count": 28,
   "metadata": {
    "id": "6fKR50_t6F3n"
   },
   "outputs": [],
   "source": [
    "# Split features based on video file naming convention\n",
    "\n",
    "features['infant'] = features['video'].str.split('_').str.get(1).str[-3:]\n",
    "features['session'] = features['video'].str.split('_').str.get(1).str[0]\n",
    "features['age'] = 'month'\n",
    "\n",
    "if SAVE:\n",
    "    features.to_csv(f'{pose_estimate_path}/features.csv', header=True, index=False)"
   ]
  },
  {
   "cell_type": "code",
   "execution_count": 29,
   "metadata": {
    "id": "Fw5_xTrfi9tA"
   },
   "outputs": [],
   "source": [
    "# Body parts and sides\n",
    "body_parts = [\"Knee\", \"Shoulder\", \"Hip\", \"Elbow\", \"Wrist\", \"Ankle\"]\n",
    "sides = [\"L\", \"R\"]\n",
    "\n",
    "# Function to split the feature string into \"feature\", \"part\", and \"side\"\n",
    "def split_feature(feature):\n",
    "    # Split the feature into components\n",
    "    parts = feature.split('_')\n",
    "    feature_name = \"_\".join(parts[:-1])  # Default to everything before the last part\n",
    "    part = parts[-1] if len(parts) > 1 else \"\"  # Default to the last part\n",
    "\n",
    "    side = \"\"\n",
    "\n",
    "    # Check if the last part has a side\n",
    "    for body_part in body_parts:\n",
    "        if body_part in part:  # Find body part\n",
    "            idx = part.index(body_part)\n",
    "            if idx > 0 and part[idx-1] in sides:  # Check for side prefix\n",
    "                side = part[idx-1]\n",
    "                part = part[idx:]  # Remove the side from the part\n",
    "            break  # Exit loop after finding the body part\n",
    "\n",
    "    # Adjust feature name to remove body part and side, if found\n",
    "    if part in feature_name:\n",
    "        feature_name = feature_name.replace(part, \"\").strip(\"_\")\n",
    "    if side in feature_name:\n",
    "        feature_name = feature_name.replace(side, \"\").strip(\"_\")\n",
    "\n",
    "    return pd.Series([feature_name, part, side])"
   ]
  },
  {
   "cell_type": "code",
   "execution_count": 30,
   "metadata": {
    "colab": {
     "base_uri": "https://localhost:8080/",
     "height": 204
    },
    "id": "Td9C5LWE67Iv",
    "outputId": "732f3a60-77ef-4ccb-a7f9-921c9edc7863"
   },
   "outputs": [
    {
     "data": {
      "text/html": [
       "<div>\n",
       "<style scoped>\n",
       "    .dataframe tbody tr th:only-of-type {\n",
       "        vertical-align: middle;\n",
       "    }\n",
       "\n",
       "    .dataframe tbody tr th {\n",
       "        vertical-align: top;\n",
       "    }\n",
       "\n",
       "    .dataframe thead th {\n",
       "        text-align: right;\n",
       "    }\n",
       "</style>\n",
       "<table border=\"1\" class=\"dataframe\">\n",
       "  <thead>\n",
       "    <tr style=\"text-align: right;\">\n",
       "      <th></th>\n",
       "      <th>infant</th>\n",
       "      <th>age</th>\n",
       "      <th>session</th>\n",
       "      <th>video</th>\n",
       "      <th>feature</th>\n",
       "      <th>part</th>\n",
       "      <th>Value</th>\n",
       "    </tr>\n",
       "  </thead>\n",
       "  <tbody>\n",
       "    <tr>\n",
       "      <th>0</th>\n",
       "      <td>11</td>\n",
       "      <td>month</td>\n",
       "      <td>1</td>\n",
       "      <td>822487_11_3_1_gp1_1</td>\n",
       "      <td>IQR_acc_angle</td>\n",
       "      <td>Elbow</td>\n",
       "      <td>128.009737</td>\n",
       "    </tr>\n",
       "    <tr>\n",
       "      <th>1</th>\n",
       "      <td>11</td>\n",
       "      <td>month</td>\n",
       "      <td>1</td>\n",
       "      <td>822487_11_3_1_gp1_1</td>\n",
       "      <td>IQR_acc_angle</td>\n",
       "      <td>Hip</td>\n",
       "      <td>84.806122</td>\n",
       "    </tr>\n",
       "    <tr>\n",
       "      <th>2</th>\n",
       "      <td>11</td>\n",
       "      <td>month</td>\n",
       "      <td>1</td>\n",
       "      <td>822487_11_3_1_gp1_1</td>\n",
       "      <td>IQR_acc_angle</td>\n",
       "      <td>Knee</td>\n",
       "      <td>86.910725</td>\n",
       "    </tr>\n",
       "    <tr>\n",
       "      <th>3</th>\n",
       "      <td>11</td>\n",
       "      <td>month</td>\n",
       "      <td>1</td>\n",
       "      <td>822487_11_3_1_gp1_1</td>\n",
       "      <td>IQR_acc_angle</td>\n",
       "      <td>Shoulder</td>\n",
       "      <td>62.897430</td>\n",
       "    </tr>\n",
       "    <tr>\n",
       "      <th>4</th>\n",
       "      <td>11</td>\n",
       "      <td>month</td>\n",
       "      <td>1</td>\n",
       "      <td>822487_11_3_1_gp1_1</td>\n",
       "      <td>IQR_vel_angle</td>\n",
       "      <td>Elbow</td>\n",
       "      <td>32.885301</td>\n",
       "    </tr>\n",
       "  </tbody>\n",
       "</table>\n",
       "</div>"
      ],
      "text/plain": [
       "  infant    age session                video        feature      part  \\\n",
       "0     11  month       1  822487_11_3_1_gp1_1  IQR_acc_angle     Elbow   \n",
       "1     11  month       1  822487_11_3_1_gp1_1  IQR_acc_angle       Hip   \n",
       "2     11  month       1  822487_11_3_1_gp1_1  IQR_acc_angle      Knee   \n",
       "3     11  month       1  822487_11_3_1_gp1_1  IQR_acc_angle  Shoulder   \n",
       "4     11  month       1  822487_11_3_1_gp1_1  IQR_vel_angle     Elbow   \n",
       "\n",
       "        Value  \n",
       "0  128.009737  \n",
       "1   84.806122  \n",
       "2   86.910725  \n",
       "3   62.897430  \n",
       "4   32.885301  "
      ]
     },
     "execution_count": 30,
     "metadata": {},
     "output_type": "execute_result"
    }
   ],
   "source": [
    "# Include data for the following, and restructure dataframe\n",
    "# Customize for your specific dataset\n",
    "\n",
    "id_vars = ['infant', 'age','session','video']\n",
    "melted = pd.melt(features, id_vars=id_vars, var_name=\"feature\", value_name=\"Value\")\n",
    "\n",
    "# Apply the function to the 'feature' column in your melted DataFrame\n",
    "melted[['feature', 'part', 'side']] = melted['feature'].apply(split_feature)\n",
    "melted = melted.dropna()\n",
    "mean = melted.groupby(['infant', 'age', 'session', 'video', 'feature', 'part'])['Value'].mean().reset_index()\n",
    "mean.to_csv(f'{pose_estimate_path}/{dataset}_features_mean_by_side.csv', header=True, index=False)\n",
    "\n",
    "mean.head()"
   ]
  },
  {
   "cell_type": "markdown",
   "metadata": {
    "id": "hLCqy4CzZtsZ"
   },
   "source": []
  }
 ],
 "metadata": {
  "colab": {
   "provenance": []
  },
  "kernelspec": {
   "display_name": "predict_gma",
   "language": "python",
   "name": "python3"
  },
  "language_info": {
   "codemirror_mode": {
    "name": "ipython",
    "version": 3
   },
   "file_extension": ".py",
   "mimetype": "text/x-python",
   "name": "python",
   "nbconvert_exporter": "python",
   "pygments_lexer": "ipython3",
   "version": "3.8.20"
  }
 },
 "nbformat": 4,
 "nbformat_minor": 0
}
